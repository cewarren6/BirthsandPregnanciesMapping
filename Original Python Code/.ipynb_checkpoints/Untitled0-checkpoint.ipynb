{
 "metadata": {
  "name": "",
  "signature": "sha256:331513a1fa4efe05fda639236e76e0efcec25fcc367efa1c154c83cceabcbcb0"
 },
 "nbformat": 3,
 "nbformat_minor": 0,
 "worksheets": []
}